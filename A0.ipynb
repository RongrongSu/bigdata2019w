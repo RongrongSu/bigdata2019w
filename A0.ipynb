{
 "cells": [
  {
   "cell_type": "markdown",
   "metadata": {},
   "source": [
    "## CS431/631 Big Data Infrastructure\n",
    "### Winter 2018 - Assignment 0\n",
    "---"
   ]
  },
  {
   "cell_type": "markdown",
   "metadata": {},
   "source": [
    "**Please edit this (text) cell to provide your name and UW student ID number!**\n",
    "* **Name:** _Rongrong Su_\n",
    "* **ID:** _20751802_"
   ]
  },
  {
   "cell_type": "markdown",
   "metadata": {},
   "source": [
    "---\n",
    "For this assignment, you will be using Python to do some analysis of the text of Shakespeare's plays.    You should already have uploaded the text file (`Shakespeare.txt`) to the hub.   You should also have downloaded the Python tokenizer module, as `simple_tokenize.py`.\n",
    "\n",
    "Let's first try running some simple Python code to make sure that everything is set up properly and ready to go.   The code in the next box will open `Shakespeare.txt`, read the file line by line, and tokenize each line that it reads in.    Try running the code by selecting the box and typing `Shift-Return`, i.e., hit the carriage return key while you are holding the shift key.   It may take a few seconds to run."
   ]
  },
  {
   "cell_type": "code",
   "execution_count": 33,
   "metadata": {},
   "outputs": [
    {
     "data": {
      "text/plain": [
       "['the', 'end']"
      ]
     },
     "execution_count": 33,
     "metadata": {},
     "output_type": "execute_result"
    }
   ],
   "source": [
    "# this imports the SimpleTokenize function from the simple_tokenize.py file that you uploaded\n",
    "from simple_tokenize import simple_tokenize\n",
    "\n",
    "# Now, let's tokenize Shakespeare's plays\n",
    "with open('Shakespeare.txt') as f:\n",
    "    for line in f:\n",
    "        # tokenize, one line at a time\n",
    "        t = simple_tokenize(line)\n",
    "t"
   ]
  },
  {
   "cell_type": "markdown",
   "metadata": {},
   "source": [
    "#### Question 1  (2/10 marks):\n",
    "When the code is being executed, the cell number will change to \\*, i.e., you should see `In [*]` in the left margin next to the cell.   After the code has finished running, the cell number will change to `In [1]` (indicating that this is the first code cell to be executed) and the notebook will display the resulting output immediately after cell.   In this case, you shoueld see the output\n",
    "`['the', 'end']`.   In the next cell, briefly explain why the code produced this output.\n"
   ]
  },
  {
   "cell_type": "markdown",
   "metadata": {},
   "source": [
    "#### Your answer to Question 1:\n",
    "*Since the last t is the tokenized result of the last line( The end) the output should be ['the', 'end']*\n",
    "\n",
    "\n",
    "\n"
   ]
  },
  {
   "cell_type": "markdown",
   "metadata": {},
   "source": [
    "Remember that when you close and halt a notebook, any unsaved work in the notebook will be lost.   To save the contents of your notebook, use `Save and Checkpoint` (from the File menu).   \n",
    "\n",
    "---\n",
    "\n",
    "Now it is time for you to write some code.   Let's find the most frequently appearing tokens in Shakespeare's work.\n",
    "\n",
    "#### Question 2 (4/10 marks):\n",
    "In the next box, write Python code to list the 50 most frequently appearing tokens and their frequency, i.e., the number of times that each occurs.   Please use the `simple_tokenize` function, without modification, to tokenize the text, so that everyone is working with the same definition of what a token is.   If you wish, feel free to start with the Python code in the box above - just copy it from there and paste it below."
   ]
  },
  {
   "cell_type": "code",
   "execution_count": 8,
   "metadata": {},
   "outputs": [
    {
     "name": "stdout",
     "output_type": "stream",
     "text": [
      "[('the', 27378), ('and', 26082), ('i', 20717), ('to', 19661), ('of', 17473), ('a', 14723), ('you', 13630), ('my', 12490), ('in', 10996), ('that', 10915), ('is', 9137), ('not', 8512), ('with', 7778), ('me', 7777), ('it', 7692), ('for', 7578), ('be', 6867), ('his', 6859), ('your', 6657), ('this', 6606), ('but', 6277), ('he', 6260), ('have', 5885), ('as', 5744), ('thou', 5491), ('him', 5205), ('so', 5056), ('will', 4977), ('what', 4469), ('thy', 4034), ('all', 3923), ('her', 3850), ('no', 3797), ('by', 3768), ('do', 3753), ('shall', 3592), ('if', 3500), ('are', 3405), ('we', 3298), ('thee', 3180), ('on', 3062), ('lord', 3062), ('our', 3061), ('king', 2871), ('good', 2834), ('now', 2789), ('sir', 2763), ('from', 2640), ('o', 2621), ('come', 2519)]\n"
     ]
    }
   ],
   "source": [
    "# In this box, write Python code to find the 50 most frequent tokens in Shakespeare.txt\n",
    "# Make sure that your code is commented\n",
    "import re\n",
    "from  collections import Counter\n",
    "b=[]\n",
    "with open('Shakespeare.txt') as f:\n",
    "    for line in f:\n",
    "        t = simple_tokenize(line)\n",
    "        b.extend(t)\n",
    "    print(Counter(b).most_common(50))"
   ]
  },
  {
   "cell_type": "markdown",
   "metadata": {},
   "source": [
    "Be sure to test the code that you have written by running it.   When you submit your notebook to us, we will run your code when we mark you assignment.   As a sanity test on you output, our reference implementation finds that the most frequent word is \"the\", which occurs 27378 times.\n",
    "\n",
    "---\n",
    "\n",
    "Once you have found the 50 most frequent tokens, let's move on to something slightly more complicated.\n",
    "\n",
    "#### Question 3 (4/10 marks):\n",
    "\n",
    "Instead of the most frequent tokens appearing in Shakespeare's works, suppose that we want a list of words that appear after the word \"perfect\", on the same line, in Shakespeare's text. \n",
    "(Note: the \"words\" we are interested in for this question are tokens, as returned by simple_tokenize.)\n",
    "\n",
    "For example, *All's Well That Ends Well* includes the line\n",
    ">  Ere I can perfect mine intents, to kneel.\n",
    "\n",
    "so \"mine\" should be part of the output, since it follows \"perfect\" on this line.  To keep the output from getting too long, include only words that appear after \"perfect\" on more than one line.\n",
    "\n",
    "In the next box, write Python code to list words that follow perfect on more than one line.   As a sanity check on your output, our reference implementation finds 5 such words."
   ]
  },
  {
   "cell_type": "code",
   "execution_count": 120,
   "metadata": {},
   "outputs": [
    {
     "data": {
      "text/plain": [
       "['ceremony',\n",
       " 'best',\n",
       " 'courtier',\n",
       " 'mine',\n",
       " 'honour',\n",
       " 'is',\n",
       " 'wits',\n",
       " 'goodness',\n",
       " 'honour',\n",
       " 'what',\n",
       " 'conscience',\n",
       " 'in',\n",
       " 'in',\n",
       " 'image',\n",
       " 'guess',\n",
       " 'in',\n",
       " 'in',\n",
       " 'love',\n",
       " 'sun',\n",
       " 'day',\n",
       " 'ways',\n",
       " 'richard',\n",
       " 'wrong',\n",
       " 'thought',\n",
       " 'age',\n",
       " 'mind',\n",
       " 'spy',\n",
       " 'him',\n",
       " 'yellow',\n",
       " 'adieu',\n",
       " 'divine',\n",
       " 'soul',\n",
       " 'chrysolite',\n",
       " 'love',\n",
       " 'love',\n",
       " 'love',\n",
       " 'gallows',\n",
       " 'and',\n",
       " 'that',\n",
       " 'man',\n",
       " 'self',\n",
       " 'yellow',\n",
       " 'that',\n",
       " 'then',\n",
       " 'woman']"
      ]
     },
     "execution_count": 120,
     "metadata": {},
     "output_type": "execute_result"
    }
   ],
   "source": [
    "# In this box, write Python code to find tokens that follow \"perfect\" in Shakespeare.txt \n",
    "# Make sure that your code is commented\n",
    "\n",
    "next_word=[]\n",
    "with open('Shakespeare.txt') as f:\n",
    "    for line in f:\n",
    "        t = simple_tokenize(line)\n",
    "        for i in range(len(t)):\n",
    "            if t[i] == 'perfect' and i<len(t)-1 :\n",
    "                next_word.append(t[i+1])\n",
    "next_word\n"
   ]
  },
  {
   "cell_type": "markdown",
   "metadata": {},
   "source": [
    "That's it!   Don't forget to save your work before closing and halting your notebook.      \n",
    "\n",
    "When you are finished and ready to submit your assignment, download your notebook file (.ipynb) from the hub to your machine, and then follow the submission instructions in the assignment."
   ]
  },
  {
   "cell_type": "code",
   "execution_count": null,
   "metadata": {},
   "outputs": [],
   "source": []
  }
 ],
 "metadata": {
  "kernelspec": {
   "display_name": "Python 3",
   "language": "python",
   "name": "python3"
  },
  "language_info": {
   "codemirror_mode": {
    "name": "ipython",
    "version": 3
   },
   "file_extension": ".py",
   "mimetype": "text/x-python",
   "name": "python",
   "nbconvert_exporter": "python",
   "pygments_lexer": "ipython3",
   "version": "3.6.5"
  }
 },
 "nbformat": 4,
 "nbformat_minor": 2
}
