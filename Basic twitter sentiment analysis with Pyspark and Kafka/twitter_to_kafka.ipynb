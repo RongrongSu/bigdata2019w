{
 "cells": [
  {
   "cell_type": "code",
   "execution_count": 5,
   "metadata": {},
   "outputs": [
    {
     "ename": "SyntaxError",
     "evalue": "invalid syntax (<ipython-input-5-91a7d3eebff5>, line 19)",
     "output_type": "error",
     "traceback": [
      "\u001b[0;36m  File \u001b[0;32m\"<ipython-input-5-91a7d3eebff5>\"\u001b[0;36m, line \u001b[0;32m19\u001b[0m\n\u001b[0;31m    self.producer = SimpleProducer(client, async = True,\u001b[0m\n\u001b[0m                                               ^\u001b[0m\n\u001b[0;31mSyntaxError\u001b[0m\u001b[0;31m:\u001b[0m invalid syntax\n"
     ]
    }
   ],
   "source": [
    "import json\n",
    "from kafka import SimpleProducer, KafkaClient\n",
    "import tweepy\n",
    "from tweepy import OAuthHandler\n",
    "from tweepy import Stream\n",
    "from tweepy.streaming import StreamListener\n",
    "\n",
    "# Note: Some of the imports are external python libraries. They are installed on the current machine.\n",
    "# If you are running multinode cluster, you have to make sure that these libraries\n",
    "# and currect version of Python is installed on all the worker nodes.\n",
    "\n",
    "class TweeterStreamListener(tweepy.StreamListener):\n",
    "    \"\"\" A class to read the twiiter stream and push it to Kafka\"\"\"\n",
    "\n",
    "    def __init__(self, api):\n",
    "        self.api = api\n",
    "        super(tweepy.StreamListener, self).__init__()\n",
    "        client = KafkaClient(\"localhost:9092\")\n",
    "        self.producer = SimpleProducer(client, async = True,\n",
    "                          batch_send_every_n = 1000,\n",
    "                          batch_send_every_t = 10)\n",
    "\n",
    "    def on_status(self, status):\n",
    "        \"\"\" This method is called whenever new data arrives from live stream.\n",
    "        We asynchronously push this data to kafka queue\"\"\"\n",
    "        msg =  status.text.encode('utf-8')\n",
    "        #print(msg)\n",
    "        try:\n",
    "            self.producer.send_messages(b'twitterstream', msg)\n",
    "        except Exception as e:\n",
    "            print(e)\n",
    "            return False\n",
    "        return True\n",
    "\n",
    "    def on_error(self, status_code):\n",
    "        print(\"Error received in kafka producer %d\") %(status_code)\n",
    "        return True # Don't kill the stream\n",
    "\n",
    "    def on_timeout(self):\n",
    "        return True # Don't kill the stream\n",
    "\n",
    "if __name__ == '__main__':\n",
    "\n",
    "    # Read the credententials from 'twitter.txt' file\n",
    "    \n",
    "    consumer_key = 'XvQIDkDDlyC5ci1f3iXWHqDiP'\n",
    "    consumer_secret = '2vJKOQ51NjK4VRFiomIOO3DKpJICo7Lv07gdq4PBlzQnoksjPT'\n",
    "    access_key = '904390974012567552-cLyTcyzKplCQwPSpsZvjvS7MtCCmY8h'\n",
    "    access_secret = 'SiB6QaBr1HP4gX34zDTMhd8pZVY77V8Y5mETttVwIl3FX'\n",
    "\n",
    "    # Create Auth object\n",
    "    auth = tweepy.OAuthHandler(consumer_key, consumer_secret)\n",
    "    auth.set_access_token(access_key, access_secret)\n",
    "    api = tweepy.API(auth)\n",
    "\n",
    "    # Create stream and bind the listener to it\n",
    "    stream = tweepy.Stream(auth, listener = TweeterStreamListener(api))\n",
    "\n",
    "    #Custom Filter rules pull all traffic for those filters in real time.\n",
    "    #stream.filter(track = ['love', 'hate'], languages = ['en'])\n",
    "    stream.filter(locations=[-180,-90,180,90], languages = ['en'])\n",
    "\n"
   ]
  },
  {
   "cell_type": "code",
   "execution_count": null,
   "metadata": {},
   "outputs": [],
   "source": []
  }
 ],
 "metadata": {
  "kernelspec": {
   "display_name": "Python 3",
   "language": "python",
   "name": "python3"
  },
  "language_info": {
   "codemirror_mode": {
    "name": "ipython",
    "version": 3
   },
   "file_extension": ".py",
   "mimetype": "text/x-python",
   "name": "python",
   "nbconvert_exporter": "python",
   "pygments_lexer": "ipython3",
   "version": "3.7.1"
  }
 },
 "nbformat": 4,
 "nbformat_minor": 2
}
